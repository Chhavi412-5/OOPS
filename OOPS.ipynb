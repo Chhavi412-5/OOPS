{
  "nbformat": 4,
  "nbformat_minor": 0,
  "metadata": {
    "colab": {
      "provenance": []
    },
    "kernelspec": {
      "name": "python3",
      "display_name": "Python 3"
    },
    "language_info": {
      "name": "python"
    }
  },
  "cells": [
    {
      "cell_type": "markdown",
      "source": [
        " 1. What is Object-Oriented Programming (OOP)?\n",
        "\n",
        " Ans Object-oriented programming (OOP) is a fundamental programming paradigm used by nearly every developer at some point in their career. OOP is the most popular programming paradigm used for software development and is taught as the standard way to code for most of a programmer’s educational career."
      ],
      "metadata": {
        "id": "2oSpBq4Gfy5F"
      }
    },
    {
      "cell_type": "markdown",
      "source": [
        "2. What is a class in OOP?\n",
        "\n",
        "Ans A class is a user-defined data type. It consists of data members and member functions, which can be accessed and used by creating an instance of that class. It represents the set of properties or methods that are common to all objects of one type. A class is like a blueprint for an object.  "
      ],
      "metadata": {
        "id": "BRbqsNvWgSvD"
      }
    },
    {
      "cell_type": "markdown",
      "source": [
        "3. What is an object in OOP?\n",
        "\n",
        "Ans It is a basic unit of Object-Oriented Programming and represents the real-life entities. An Object is an instance of a Class. When a class is defined, no memory is allocated but when it is instantiated (i.e. an object is created) memory is allocated. An object has an identity, state, and behavior."
      ],
      "metadata": {
        "id": "CXudZuYVgtYP"
      }
    },
    {
      "cell_type": "markdown",
      "source": [
        "4. What is the difference between abstraction and encapsulation?\n",
        "\n",
        "Ans **Encapsulation** is the concept of bundling data (attributes) and methods (functions) that operate on that data into a single unit, known as a class. Direct access to some components of an object is restricted while controlled access is provided through methods. Objects should be designed to hide the internal implementation details and expose only what is needed to interact with them from the outside.\n",
        "\n",
        "**Abstraction**, on the other hand, is the process of simplifying complex reality by modeling classes based on essential properties and behaviors. It allows you to represent essential features of an object while hiding unnecessary details. It helps manage complexity by separating what an object does (methods) from how it achieves it (implementation details)."
      ],
      "metadata": {
        "id": "C-Kl2Nmxg6We"
      }
    },
    {
      "cell_type": "markdown",
      "source": [
        "5. What are dunder methods in Python?\n",
        "\n",
        "Ans 1.**Initialization and construction**\n",
        "Dunder methods like __new__, __init__, and __del__ control how objects are created, initialized, and eventually destroyed.\n",
        "\n",
        "2. **Numeric and arithmetic methods**\n",
        "Dunder methods such as __add__, __sub__, __mul__, and their in-place variants allow your objects to support arithmetic operations. This is known as operator overloading. By defining these methods, you can enable natural arithmetic behavior for your custom objects.\n",
        "\n",
        "3. **Comparison and equality methods**\n",
        "Methods like __eq__, __lt__, and __gt__ determine how objects are compared. These methods let you define what it means for two objects to be equal or how they should be ordered."
      ],
      "metadata": {
        "id": "ztFs0FVDhx94"
      }
    },
    {
      "cell_type": "markdown",
      "source": [
        "6. Explain the concept of inheritance in OOP?\n",
        "\n",
        "Ans Inheritance is one of the core features of object-oriented programming. It’s a programming procedure that allows you to reuse code by referencing the behaviors and data of an object. In other words, a class that inherits from another class shares all the attributes and methods of the referenced class."
      ],
      "metadata": {
        "id": "4bbNtGoCi6CM"
      }
    },
    {
      "cell_type": "markdown",
      "source": [
        "7. What is polymorphism in OOP?\n",
        "\n",
        "Ans Polymorphism is one of the core concepts of OOP that describes situations in which something occurs in several different forms. In computer science, polymorphism describes the concept that you can access objects of different types through the same interface. Each type can provide its own independent implementation of this interface."
      ],
      "metadata": {
        "id": "4CR9w4H7jKCJ"
      }
    },
    {
      "cell_type": "markdown",
      "source": [
        "8. How is encapsulation achieved in Python?\n",
        "\n",
        "Ans In Python, encapsulation refers to the bundling of data (attributes) and methods (functions) that operate on the data into a single unit, typically a class. It also restricts direct access to some components, which helps protect the integrity of the data and ensures proper usage.\n",
        "Encapsulation is the process of hiding the internal state of an object and requiring all interactions to be performed through an object's methods. This approach:\n",
        "\n",
        "Provides better control over data.\n",
        "\n",
        "Prevents accidental modification of data.\n",
        "\n",
        "Promotes modular programming."
      ],
      "metadata": {
        "id": "eYN8QA_Jjj7i"
      }
    },
    {
      "cell_type": "markdown",
      "source": [
        "9. What is a constructor in Python?\n",
        "\n",
        "Ans n Python, a constructor is a special method that is called automatically when an object is created from a class. Its main role is to initialize the object by setting up its attributes or state.\n",
        "\n",
        "The method __new__ is the constructor that creates a new instance of the class while __init__ is the initializer that sets up the instance's attributes after creation. These methods work together to manage object creation and initialization."
      ],
      "metadata": {
        "id": "1N86y-ltj4D9"
      }
    },
    {
      "cell_type": "markdown",
      "source": [
        "10. What are class and static methods in Python?\n",
        "\n",
        "Ans A class method is a method that is bound to the class and not the object of the class.\n",
        "They have the access to the state of the class as it takes a class parameter that points to the class and not the object instance.\n",
        "It can modify a class state that would apply across all the instances of the class.\n",
        "\n",
        "A static method does not receive an implicit first argument. A static method is also a method that is bound to the class and not the object of the class. This method can't access or modify the class state. It is present in a class because it makes sense for the method to be present in class."
      ],
      "metadata": {
        "id": "INabvc12kFP5"
      }
    },
    {
      "cell_type": "markdown",
      "source": [
        "11. What is method overloading in Python?\n",
        "\n",
        "Ans In many programming languages like C++ or Java, you can define multiple methods with the same name but different parameter lists. This concept is called method overloading.\n",
        "\n",
        "Python does not support method overloading by default. If you define multiple methods with the same name, only the latest definition will be used."
      ],
      "metadata": {
        "id": "9K7mXTR7keOE"
      }
    },
    {
      "cell_type": "markdown",
      "source": [
        "12. What is method overriding in OOP?\n",
        "\n",
        "Ans\n",
        "Method overriding is a core concept in object-oriented programming (OOP) that allows a subclass to provide a specific implementation of a method that is already defined in its superclass. This is essential for dynamic polymorphism – enabling code flexibility and reusability."
      ],
      "metadata": {
        "id": "XfPbtYihkvFV"
      }
    },
    {
      "cell_type": "markdown",
      "source": [
        "13.  What is a property decorator in Python?\n",
        "\n",
        "Ans A decorator feature in Python wraps in a function, appends several functionalities to existing code and then returns it. Methods and functions are known to be callable as they can be called. Therefore, a decorator is also a callable that returns callable. This is also known as metaprogramming as at compile time a section of program alters another section of the program.\n"
      ],
      "metadata": {
        "id": "YJgAw1uxlBOP"
      }
    },
    {
      "cell_type": "markdown",
      "source": [
        "14. Why is polymorphism important in OOP?\n",
        "\n",
        "Ans Polymorphism is used in OOP to allow developers to write more efficient code and redefine methods for derived classes; however, it could raise real-time performance issues. As one of the most widely used computer programming models, object-oriented programming organizes software design around objects instead of procedure or logic."
      ],
      "metadata": {
        "id": "b2dOtBO9lN_N"
      }
    },
    {
      "cell_type": "markdown",
      "source": [
        "15. What is an abstract class in Python?\n",
        "\n",
        "Ans In Python, an abstract class is a class that cannot be instantiated on its own and is designed to be a blueprint for other classes. Abstract classes allow us to define methods that must be implemented by subclasses, ensuring a consistent interface while still allowing the subclasses to provide specific implementations."
      ],
      "metadata": {
        "id": "MDkna3LTlqVo"
      }
    },
    {
      "cell_type": "markdown",
      "source": [
        " 16.What are the advantages of OOP?\n",
        "\n",
        " Ans OOP language allows to break the program into the bit-sized problems that can be solved easily (one object at a time).\n",
        "\n",
        "The new technology promises greater programmer productivity, better quality of software and lesser maintenance cost.\n",
        "\n",
        "OOP systems can be easily upgraded from small to large systems.\n",
        "\n",
        "It is possible that multiple instances of objects co-exist without any interference.\n",
        "\n",
        "It is very easy to partition the work in a project based on objects.\n",
        "\n",
        "It is possible to map the objects in problem domain to those in the program."
      ],
      "metadata": {
        "id": "36GLnZ5gl4Bm"
      }
    },
    {
      "cell_type": "markdown",
      "source": [
        "17. What is the difference between a class variable and an instance variable?\n",
        "\n",
        "Ans **Instance Variable**: It is basically a class variable without a static modifier and is usually shared by all class instances. Across different objects, these variables can have different values. They are tied to a particular object instance of the class, therefore, the contents of an instance variable are totally independent of one object instance to others.\n",
        "\n",
        "**Class Variable**: It is basically a static variable that can be declared anywhere at class level with static. Across different objects, these variables can have only one value. These variables are not tied to any particular object of the class, therefore, can share across all objects of the class.  \n"
      ],
      "metadata": {
        "id": "r7MfQbrFmSZN"
      }
    },
    {
      "cell_type": "markdown",
      "source": [
        "18. What is multiple inheritance in Python?\n",
        "\n",
        "Ans When a class is derived from more than one base class it is called multiple Inheritance. The derived class inherits all the features of the base case."
      ],
      "metadata": {
        "id": "mTTQjCg3i__R"
      }
    },
    {
      "cell_type": "markdown",
      "source": [
        "19. Explain the purpose of ‘’__str__’ and ‘__repr__’ ‘ methods in Python.\n",
        "\n",
        "Ans In Python, the str() and repr() functions are used to obtain string representations of objects. While they may seem similar at first glance, there are some differences in how they behave. Both of the functions can be helpful in debugging or printing useful information about the object."
      ],
      "metadata": {
        "id": "RLiAHIUojJ9t"
      }
    },
    {
      "cell_type": "markdown",
      "source": [
        "20.  What is the significance of the ‘super()’ function in Python?\n",
        "\n",
        "Ans In Python, the super() function is used to refer to the parent class or superclass. It allows you to call methods defined in the superclass from the subclass, enabling you to extend and customize the functionality inherited from the parent class."
      ],
      "metadata": {
        "id": "dId13raljMTC"
      }
    },
    {
      "cell_type": "markdown",
      "source": [
        "21.  What is the significance of the __del__ method in Python?\n",
        "\n",
        "Ans The __del__ method is a special method in Python that is called when an object is about to be destroyed. It allows you to define specific cleanup actions that should be taken when an object is garbage collected. This method can be particularly useful for releasing external resources such as file handles, network connections, or database connections that the object may hold."
      ],
      "metadata": {
        "id": "wmw1sHZDjW17"
      }
    },
    {
      "cell_type": "markdown",
      "source": [
        "22.  What is the difference between @staticmethod and @classmethod in Python?\n",
        "\n",
        "Ans A class method takes cls as the first parameter while a static method needs no specific parameters.\n",
        "\n",
        "A class method can access or modify the class state while a static method can't access or modify it.\n",
        "\n",
        "In general, static methods know nothing about the class state.\n",
        "They are utility-type methods that take some parameters and work upon those parameters. On the other hand class methods must have class as a parameter.\n",
        "\n",
        "We use @classmethod decorator in python to create a class method and we use @staticmethod decorator to create a static method in python."
      ],
      "metadata": {
        "id": "h9NZFQlxjdfh"
      }
    },
    {
      "cell_type": "markdown",
      "source": [
        "23.  How does polymorphism work in Python with inheritance?\n",
        "\n",
        "Ans Polymorphism is a foundational concept in programming that allows entities like functions, methods or operators to behave differently based on the type of data they are handling. Derived from Greek, the term literally means \"many forms\".\n",
        "\n",
        "Python's dynamic typing and duck typing make it inherently polymorphic. Functions, operators and even built-in objects like loops exhibit polymorphic behavior."
      ],
      "metadata": {
        "id": "q-2c-r68jkAa"
      }
    },
    {
      "cell_type": "markdown",
      "source": [
        "24. What is method chaining in Python OOP?\n",
        "\n",
        "Ans Method chaining is a powerful technique in Python programming that allows us to call multiple methods on an object in a single, continuous line of code. This approach makes the code cleaner, more readable, and often easier to maintain. It is frequently used in data processing, object-oriented programming, and frameworks such as Pandas, Django ORM, and Flask."
      ],
      "metadata": {
        "id": "07OkRR7tjrI-"
      }
    },
    {
      "cell_type": "markdown",
      "source": [
        "25. What is the purpose of the __call__ method in Python?\n",
        "\n",
        "Ans Python has a set of built-in methods and __call__ is one of them. The __call__ method enables Python programmers to write classes where the instances behave like functions and can be called like a function. When this method is defined, calling an object (obj(arg1, arg2)) automatically triggers obj.__call__(arg1, arg2). This makes objects behave like functions, enabling more flexible and reusable code."
      ],
      "metadata": {
        "id": "fVnQXw0_jyMI"
      }
    },
    {
      "cell_type": "markdown",
      "source": [
        "1. Create a parent class Animal with a method speak() that prints a generic message. Create a child class Dog\n",
        "that overrides the speak() method to print \"Bark!\"."
      ],
      "metadata": {
        "id": "fSO7kdxL766B"
      }
    },
    {
      "cell_type": "code",
      "source": [
        "class Animal:\n",
        "  def speaks(self):\n",
        "    print(\"Animals make sound\")\n",
        "\n",
        "class Dog(Animal):\n",
        "  def speaks(self):\n",
        "    print(\"Bark!\")\n",
        "animal = Animal()\n",
        "dog = Dog()\n",
        "animal.speaks()\n",
        "dog.speaks()"
      ],
      "metadata": {
        "colab": {
          "base_uri": "https://localhost:8080/"
        },
        "id": "3xvPbEhS6K8D",
        "outputId": "54fe013b-8508-403b-b191-27dfee901316"
      },
      "execution_count": null,
      "outputs": [
        {
          "output_type": "stream",
          "name": "stdout",
          "text": [
            "Animals make sound\n",
            "Bark!\n"
          ]
        }
      ]
    },
    {
      "cell_type": "markdown",
      "source": [
        "2. Write a program to create an abstract class Shape with a method area(). Derive classes Circle and Rectangle\n",
        "from it and implement the area() method in both."
      ],
      "metadata": {
        "id": "fWdvhQbX7wi4"
      }
    },
    {
      "cell_type": "code",
      "source": [
        "import abc\n",
        "class Shape():\n",
        "\n",
        "  @abc.abstractmethod\n",
        "  def area(self):\n",
        "    pass\n",
        "\n",
        "class Circle(Shape):\n",
        "  def calc_area(self):\n",
        "    return(\"Area = pi*r^2\")\n",
        "\n",
        "class Rectangle(Shape):\n",
        "  def calc_area(self):\n",
        "    return(\"Area = l*b\")\n",
        "\n",
        "c1 = Circle()\n",
        "c1.calc_area()"
      ],
      "metadata": {
        "colab": {
          "base_uri": "https://localhost:8080/",
          "height": 36
        },
        "id": "7CUPXaZy72u4",
        "outputId": "cb160643-45a4-4d8c-ec75-593ba6ae0200"
      },
      "execution_count": null,
      "outputs": [
        {
          "output_type": "execute_result",
          "data": {
            "text/plain": [
              "'Area = pi*r^2'"
            ],
            "application/vnd.google.colaboratory.intrinsic+json": {
              "type": "string"
            }
          },
          "metadata": {},
          "execution_count": 10
        }
      ]
    },
    {
      "cell_type": "code",
      "source": [
        "r1 = Rectangle()\n",
        "r1.calc_area()"
      ],
      "metadata": {
        "colab": {
          "base_uri": "https://localhost:8080/",
          "height": 36
        },
        "id": "rA81TYoH0BH4",
        "outputId": "3b4d18f3-4f32-47a6-8861-a380856fea55"
      },
      "execution_count": null,
      "outputs": [
        {
          "output_type": "execute_result",
          "data": {
            "text/plain": [
              "'Area = l*b'"
            ],
            "application/vnd.google.colaboratory.intrinsic+json": {
              "type": "string"
            }
          },
          "metadata": {},
          "execution_count": 11
        }
      ]
    },
    {
      "cell_type": "markdown",
      "source": [
        "3. Implement a multi-level inheritance scenario where a class Vehicle has an attribute type. Derive a class Car\n",
        "and further derive a class ElectricCar that adds a battery attribute."
      ],
      "metadata": {
        "id": "5qNsaCWh0E4d"
      }
    },
    {
      "cell_type": "code",
      "source": [
        "class Vehicle:\n",
        "  def type0(self):\n",
        "    print(\"This is vehicle\")\n",
        "\n",
        "class Car(Vehicle):\n",
        "  def type1(self, type):\n",
        "    print(\"this is car\", type)\n",
        "\n",
        "class Electric_car(Car):\n",
        "  def type2(self, battery):\n",
        "    print(\"this is electric car\", battery)"
      ],
      "metadata": {
        "id": "jmR06m-I0IfW"
      },
      "execution_count": null,
      "outputs": []
    },
    {
      "cell_type": "code",
      "source": [
        "car = Car()\n",
        "car.type1(\"diseal\")"
      ],
      "metadata": {
        "colab": {
          "base_uri": "https://localhost:8080/"
        },
        "id": "TWMEghYv1h-G",
        "outputId": "3cdb3cf4-9ce3-4f73-eab4-f800041422dc"
      },
      "execution_count": null,
      "outputs": [
        {
          "output_type": "stream",
          "name": "stdout",
          "text": [
            "this is car diseal\n"
          ]
        }
      ]
    },
    {
      "cell_type": "code",
      "source": [
        "ec = Electric_car()\n",
        "ec.type2(\"50000mc\")"
      ],
      "metadata": {
        "colab": {
          "base_uri": "https://localhost:8080/"
        },
        "id": "FekLKyEk2NGU",
        "outputId": "570c72d2-e4a3-417c-dd93-a50c4a8be59e"
      },
      "execution_count": null,
      "outputs": [
        {
          "output_type": "stream",
          "name": "stdout",
          "text": [
            "this is electric car 50000mc\n"
          ]
        }
      ]
    },
    {
      "cell_type": "markdown",
      "source": [
        "4. Demonstrate polymorphism by creating a base class Bird with a method fly(). Create two derived classes\n",
        "Sparrow and Penguin that override the fly() method.\n",
        "\n",
        "\n"
      ],
      "metadata": {
        "id": "_ODO2jno0JLN"
      }
    },
    {
      "cell_type": "code",
      "source": [
        "class Bird():\n",
        "  def method(self):\n",
        "    print(\"Birds can fly\")\n",
        "\n",
        "class Sparrow(Bird):\n",
        "  def method(self):\n",
        "    print(\"Sparrows can fly\")\n",
        "\n",
        "class Penguin(Bird):\n",
        "  def method(self):\n",
        "    print(\"Penguin can't fly\")\n",
        "\n",
        "obj = Bird()\n",
        "obj1 = Sparrow()\n",
        "obj2 = Penguin()\n",
        "\n",
        "obj.method()\n",
        "obj1. method()\n",
        "obj2.method()\n"
      ],
      "metadata": {
        "colab": {
          "base_uri": "https://localhost:8080/"
        },
        "id": "XEnrPZ0K0OSn",
        "outputId": "177d468d-f858-4a50-ba0d-739c8b0efdd7"
      },
      "execution_count": null,
      "outputs": [
        {
          "output_type": "stream",
          "name": "stdout",
          "text": [
            "Birds can fly\n",
            "Sparrows can fly\n",
            "Penguin can't fly\n"
          ]
        }
      ]
    },
    {
      "cell_type": "markdown",
      "source": [
        "5. Write a program to demonstrate encapsulation by creating a class BankAccount with private attributes\n",
        "balance and methods to deposit, withdraw, and check balance."
      ],
      "metadata": {
        "id": "-XGMyA7f0RVE"
      }
    },
    {
      "cell_type": "code",
      "source": [
        "class Bank:\n",
        "\n",
        "  def __init__(self, balance):\n",
        "    self.__balance = balance\n",
        "  def deposit(self, amount):\n",
        "    self.__balance = self.__balance + amount\n",
        "  def withdraw(self,amount):\n",
        "    if self.__balance >= amount:\n",
        "      self.__balance = self.__balance - amount\n",
        "      print(True)\n",
        "    else:\n",
        "      print(False)\n",
        "\n",
        "  def get_balance(self):\n",
        "    return self.__balance\n",
        "\n",
        "abc = Bank(10000)\n",
        "abc.get_balance()\n"
      ],
      "metadata": {
        "colab": {
          "base_uri": "https://localhost:8080/"
        },
        "id": "LVAC0Utfo2fj",
        "outputId": "4008d749-d385-42b8-f61e-97723b00d4a9"
      },
      "execution_count": null,
      "outputs": [
        {
          "output_type": "execute_result",
          "data": {
            "text/plain": [
              "10000"
            ]
          },
          "metadata": {},
          "execution_count": 25
        }
      ]
    },
    {
      "cell_type": "code",
      "source": [
        "abc.withdraw(1500)\n",
        "abc.get_balance()"
      ],
      "metadata": {
        "colab": {
          "base_uri": "https://localhost:8080/"
        },
        "id": "AiGsLZqAMcpI",
        "outputId": "c1a651bc-10e1-42ec-d2db-dca95210dde9"
      },
      "execution_count": null,
      "outputs": [
        {
          "output_type": "stream",
          "name": "stdout",
          "text": [
            "False\n"
          ]
        },
        {
          "output_type": "execute_result",
          "data": {
            "text/plain": [
              "8500"
            ]
          },
          "metadata": {},
          "execution_count": 27
        }
      ]
    },
    {
      "cell_type": "markdown",
      "source": [
        "6.  Demonstrate runtime polymorphism using a method play() in a base class Instrument. Derive classes Guitar\n",
        "and Piano that implement their own version of play()."
      ],
      "metadata": {
        "id": "WXFs-Jpio3HM"
      }
    },
    {
      "cell_type": "code",
      "source": [
        "class Instrument():\n",
        "  def play(self):\n",
        "    print(\"Instument will play\")\n",
        "\n",
        "class Guitar(Instrument):\n",
        "  def play(self):\n",
        "    print(\"Tone Words\")\n",
        "\n",
        "class Piano(Instrument):\n",
        "  def play(self):\n",
        "    print(\"sweet, round, dark, and rich sound\")\n",
        "\n",
        "obj = Instrument()\n",
        "obj1 = Guitar()\n",
        "obj2 = Piano()\n",
        "\n",
        "obj.play()\n",
        "obj1.play()\n",
        "obj2.play()"
      ],
      "metadata": {
        "colab": {
          "base_uri": "https://localhost:8080/"
        },
        "id": "fzheyt4mo8DD",
        "outputId": "7064fb1a-723b-4c7a-8e38-bfd42a9345c7"
      },
      "execution_count": null,
      "outputs": [
        {
          "output_type": "stream",
          "name": "stdout",
          "text": [
            "Instument will play\n",
            "Tone Words\n",
            "sweet, round, dark, and rich sound\n"
          ]
        }
      ]
    },
    {
      "cell_type": "markdown",
      "source": [
        "7. Create a class MathOperations with a class method add_numbers() to add two numbers and a static\n",
        "method subtract_numbers() to subtract two numbers."
      ],
      "metadata": {
        "id": "Mspy_aNjqZJA"
      }
    },
    {
      "cell_type": "code",
      "source": [
        "class Math:\n",
        "  @classmethod\n",
        "  def add_no(self, x, y):\n",
        "    self.x = x\n",
        "    self.y = y\n",
        "    return x+y\n",
        "\n",
        "  @staticmethod\n",
        "  def sub_no(x, y):\n",
        "    return x-y"
      ],
      "metadata": {
        "id": "JXkv0D6Iqgsr"
      },
      "execution_count": null,
      "outputs": []
    },
    {
      "cell_type": "code",
      "source": [
        "obj = Math()\n",
        "obj.add_no(10, 20)"
      ],
      "metadata": {
        "colab": {
          "base_uri": "https://localhost:8080/"
        },
        "id": "O14oOjuTqelo",
        "outputId": "c211f0c6-8c33-4836-bd74-64e0b9f3a691"
      },
      "execution_count": null,
      "outputs": [
        {
          "output_type": "execute_result",
          "data": {
            "text/plain": [
              "30"
            ]
          },
          "metadata": {},
          "execution_count": 5
        }
      ]
    },
    {
      "cell_type": "code",
      "source": [
        "Math.sub_no(10, 20)"
      ],
      "metadata": {
        "colab": {
          "base_uri": "https://localhost:8080/"
        },
        "id": "cXqkRVsCqocX",
        "outputId": "1d6107ba-fb97-4d92-83b5-9c0b413e6922"
      },
      "execution_count": null,
      "outputs": [
        {
          "output_type": "execute_result",
          "data": {
            "text/plain": [
              "-10"
            ]
          },
          "metadata": {},
          "execution_count": 13
        }
      ]
    },
    {
      "cell_type": "markdown",
      "source": [
        "8.  Implement a class Person with a class method to count the total number of persons created."
      ],
      "metadata": {
        "id": "ZfVZRnRNw-i2"
      }
    },
    {
      "cell_type": "code",
      "source": [
        "class Person:\n",
        "  person_count = 0\n",
        "\n",
        "  @classmethod\n",
        "  def create_person(cls):\n",
        "    cls.person_count += 1\n",
        "    return cls.person_count\n",
        "\n",
        "obj = Person.create_person()"
      ],
      "metadata": {
        "id": "XpEGG_hMxyvu"
      },
      "execution_count": null,
      "outputs": []
    },
    {
      "cell_type": "markdown",
      "source": [
        "9. Write a class Fraction with attributes numerator and denominator. Override the str method to display the\n",
        "fraction as \"numerator/denominator\"."
      ],
      "metadata": {
        "id": "8ZnNwQc5xKin"
      }
    },
    {
      "cell_type": "code",
      "source": [
        "class Fraction():\n",
        "  def __str__(self, x, y):\n",
        "    self.numerator = x\n",
        "    self.denominator = y\n",
        "    return f\"{self.numerator}/{self.denominator}\"\n",
        "\n",
        "obj = Fraction()\n",
        "obj.__str__(10, 20)"
      ],
      "metadata": {
        "id": "6EMQgVOsxzmn",
        "colab": {
          "base_uri": "https://localhost:8080/",
          "height": 36
        },
        "outputId": "79386eea-532a-404e-a505-67b8c4855440"
      },
      "execution_count": null,
      "outputs": [
        {
          "output_type": "execute_result",
          "data": {
            "text/plain": [
              "'10/20'"
            ],
            "application/vnd.google.colaboratory.intrinsic+json": {
              "type": "string"
            }
          },
          "metadata": {},
          "execution_count": 25
        }
      ]
    },
    {
      "cell_type": "markdown",
      "source": [
        "10. Demonstrate operator overloading by creating a class Vector and overriding the add method to add two\n",
        "vectors."
      ],
      "metadata": {
        "id": "KYMCfWPXxLxs"
      }
    },
    {
      "cell_type": "code",
      "source": [
        "class Vector:\n",
        "  def __init__(self, x, y):\n",
        "    self.x = x\n",
        "    self.y = y\n",
        "  def __add__(self, other):\n",
        "    return Vector(self.x + other.x, self.y + other.y)\n",
        "\n",
        "obj = Vector(10, 20)\n",
        "obj1 = Vector(30, 40)\n",
        "obj2 = obj + obj1\n",
        "print(obj2.x, obj2.y)"
      ],
      "metadata": {
        "id": "RB_kwYKOx0rU",
        "colab": {
          "base_uri": "https://localhost:8080/"
        },
        "outputId": "25e27765-d15e-467d-81cd-c9ec293f5456"
      },
      "execution_count": null,
      "outputs": [
        {
          "output_type": "stream",
          "name": "stdout",
          "text": [
            "40 60\n"
          ]
        }
      ]
    },
    {
      "cell_type": "markdown",
      "source": [
        "11. Create a class Person with attributes name and age. Add a method greet() that prints \"Hello, my name is\n",
        "{name} and I am {age} years old.\""
      ],
      "metadata": {
        "id": "wNPusaImxSCo"
      }
    },
    {
      "cell_type": "code",
      "source": [
        "class Person():\n",
        "  def __init__(self, name, age):\n",
        "    self.name = name\n",
        "    self.age = age\n",
        "  def greet(self):\n",
        "      print(f\"Hello, my name is {self.name} and I am {self.age} years old\")\n",
        "\n",
        "obj = Person(\"Roy\", 32)\n",
        "obj.greet()"
      ],
      "metadata": {
        "id": "kS1h5K3lx2gY",
        "colab": {
          "base_uri": "https://localhost:8080/"
        },
        "outputId": "79c66840-34af-495f-8222-cc035a9277dc"
      },
      "execution_count": null,
      "outputs": [
        {
          "output_type": "stream",
          "name": "stdout",
          "text": [
            "Hello, my name is Roy and I am 32 years old\n"
          ]
        }
      ]
    },
    {
      "cell_type": "markdown",
      "source": [
        "12. Implement a class Student with attributes name and grades. Create a method average_grade() to compute\n",
        "the average of the grades.\n"
      ],
      "metadata": {
        "id": "O-3JEFTuxbOD"
      }
    },
    {
      "cell_type": "code",
      "source": [
        "class Student:\n",
        "  def __init__(self, name, grade):\n",
        "    self.name = name\n",
        "    self.grade = grade\n",
        "  def avg_grade(self):\n",
        "    return sum(self. grade)/len(self.grade)\n",
        "\n",
        "obj = Student(\"Roy\", [10,20,30,40,50])\n",
        "obj.avg_grade()"
      ],
      "metadata": {
        "id": "QzLoWXSfx3UK",
        "colab": {
          "base_uri": "https://localhost:8080/"
        },
        "outputId": "6ce0afc9-275b-4342-aa86-a5c4d3b97193"
      },
      "execution_count": null,
      "outputs": [
        {
          "output_type": "execute_result",
          "data": {
            "text/plain": [
              "30.0"
            ]
          },
          "metadata": {},
          "execution_count": 47
        }
      ]
    },
    {
      "cell_type": "markdown",
      "source": [
        "13. Create a class Rectangle with methods set_dimensions() to set the dimensions and area() to calculate the\n",
        "area."
      ],
      "metadata": {
        "id": "_TQ4Xrpoxhej"
      }
    },
    {
      "cell_type": "code",
      "source": [
        "class Rectangle:\n",
        "  def set_dimensions(self, l, b):\n",
        "    self.l = l\n",
        "    self.b = b\n",
        "  def  area(self):\n",
        "    print(f\"Area = {self.l*self.b}\")\n",
        "\n",
        "obj = Rectangle()\n",
        "obj.set_dimensions(20, 50)\n",
        "obj.area()"
      ],
      "metadata": {
        "id": "bl4uW8RGx3_E",
        "colab": {
          "base_uri": "https://localhost:8080/"
        },
        "outputId": "6794649a-c194-44bf-e9c5-997eb60dfb28"
      },
      "execution_count": null,
      "outputs": [
        {
          "output_type": "stream",
          "name": "stdout",
          "text": [
            "Area = 1000\n"
          ]
        }
      ]
    },
    {
      "cell_type": "markdown",
      "source": [
        "14. Create a class Employee with a method calculate_salary() that computes the salary based on hours worked\n",
        "and hourly rate. Create a derived class Manager that adds a bonus to the salary."
      ],
      "metadata": {
        "id": "Ep4Ir5fUxmYR"
      }
    },
    {
      "cell_type": "code",
      "source": [
        "\n",
        "class Employee:\n",
        "  def __init__(self, name, hours, rate):\n",
        "   self.name = name\n",
        "   self.hours = hours\n",
        "   self.rate = rate\n",
        "  def calc_salary(self):\n",
        "    print(f\"Salary = {self.hours*self.rate}\")\n",
        "\n",
        "class Manager(Employee):\n",
        "  def __add__(self, bonus):\n",
        "    print(f\"Bonus Salary = {self.hours*self.rate + bonus}\")\n",
        "\n",
        "obj = Employee(\"Roy\", 18, 1000)\n",
        "obj.calc_salary()"
      ],
      "metadata": {
        "id": "ucLXXwo6x40b",
        "colab": {
          "base_uri": "https://localhost:8080/"
        },
        "outputId": "62332d8f-ebc1-4cf2-dfdc-acfea775ff18"
      },
      "execution_count": null,
      "outputs": [
        {
          "output_type": "stream",
          "name": "stdout",
          "text": [
            "Salary = 18000\n"
          ]
        }
      ]
    },
    {
      "cell_type": "markdown",
      "source": [
        "15. Create a class Product with attributes name, price, and quantity. Implement a method total_price() that\n",
        "calculates the total price of the product."
      ],
      "metadata": {
        "id": "xsi17-_Xx7I-"
      }
    },
    {
      "cell_type": "code",
      "source": [
        "class Product:\n",
        "  def __init__(self, name, price, quantity):\n",
        "    self.name = name\n",
        "    self.price = price\n",
        "    self.quantity = quantity\n",
        "  def total_price(self):\n",
        "    return self.price*self.quantity\n",
        "\n",
        "obj = Product(\"Biscuit\", 10, 50)\n",
        "obj.total_price()"
      ],
      "metadata": {
        "id": "vyI-Z8c6ySGt",
        "colab": {
          "base_uri": "https://localhost:8080/"
        },
        "outputId": "e9efbbfb-92e8-4e7f-813e-296b4245d27a"
      },
      "execution_count": null,
      "outputs": [
        {
          "output_type": "execute_result",
          "data": {
            "text/plain": [
              "500"
            ]
          },
          "metadata": {},
          "execution_count": 67
        }
      ]
    },
    {
      "cell_type": "markdown",
      "source": [
        "16. Create a class Animal with an abstract method sound(). Create two derived classes Cow and Sheep that\n",
        "implement the sound() method."
      ],
      "metadata": {
        "id": "xoJM_wCNyB7e"
      }
    },
    {
      "cell_type": "code",
      "source": [
        "class Animal():\n",
        "   def sound(self):\n",
        "        pass\n",
        "class Cow(Animal):\n",
        "    def sound(self):\n",
        "        return \"Moo\"\n",
        "class Sheep(Animal):\n",
        "    def sound(self):\n",
        "      return \"Bleat\"\n",
        "cow = Cow()\n",
        "cow.sound()"
      ],
      "metadata": {
        "id": "ekx4_vgkyS6M",
        "colab": {
          "base_uri": "https://localhost:8080/",
          "height": 36
        },
        "outputId": "840d0220-09a4-442a-8713-d4572bc07905"
      },
      "execution_count": null,
      "outputs": [
        {
          "output_type": "execute_result",
          "data": {
            "text/plain": [
              "'Moo'"
            ],
            "application/vnd.google.colaboratory.intrinsic+json": {
              "type": "string"
            }
          },
          "metadata": {},
          "execution_count": 92
        }
      ]
    },
    {
      "cell_type": "code",
      "source": [
        "sheep = Sheep()\n",
        "sheep.sound()"
      ],
      "metadata": {
        "colab": {
          "base_uri": "https://localhost:8080/",
          "height": 36
        },
        "id": "3hAph-PuIeBb",
        "outputId": "e2ed7e5a-f63d-477b-fc61-6447c5e75045"
      },
      "execution_count": null,
      "outputs": [
        {
          "output_type": "execute_result",
          "data": {
            "text/plain": [
              "'Bleat'"
            ],
            "application/vnd.google.colaboratory.intrinsic+json": {
              "type": "string"
            }
          },
          "metadata": {},
          "execution_count": 93
        }
      ]
    },
    {
      "cell_type": "markdown",
      "source": [
        "\n",
        "17. Create a class Book with attributes title, author, and year_published. Add a method get_book_info() that\n",
        "returns a formatted string with the book's details."
      ],
      "metadata": {
        "id": "EXBX4wQlyJEl"
      }
    },
    {
      "cell_type": "code",
      "source": [
        "class Book:\n",
        "  def __init__(self, title, author, year_pub):\n",
        "    self.title = title\n",
        "    self.author = author\n",
        "    self.year_pub = year_pub\n",
        "  def get_book_info(self):\n",
        "    return f\"title = {self.title}, author = {self.author}, year_pub = {self.year_pub}\"\n",
        "\n",
        "book = Book(\"Godan\", \"Prem Chand\", 1936)\n",
        "book.get_book_info()"
      ],
      "metadata": {
        "id": "9Audn-n7yT0f",
        "colab": {
          "base_uri": "https://localhost:8080/",
          "height": 36
        },
        "outputId": "b59cc31d-9740-48fe-eac8-071a9d8fa68a"
      },
      "execution_count": null,
      "outputs": [
        {
          "output_type": "execute_result",
          "data": {
            "text/plain": [
              "'title = Godan, author = Prem Chand, year_pub = 1936'"
            ],
            "application/vnd.google.colaboratory.intrinsic+json": {
              "type": "string"
            }
          },
          "metadata": {},
          "execution_count": 86
        }
      ]
    },
    {
      "cell_type": "markdown",
      "source": [
        "18. Create a class House with attributes address and price. Create a derived class Mansion that adds an\n",
        "attribute number_of_rooms."
      ],
      "metadata": {
        "id": "V4WQlxvxyKqm"
      }
    },
    {
      "cell_type": "code",
      "source": [
        "class House:\n",
        "  def __init__(self, address, price):\n",
        "    self.address = address\n",
        "    self.price = price\n",
        "\n",
        "class Mansion(House):\n",
        "  def __init__(self, address, price, num_of_rooms):\n",
        "    super().__init__(address, price)\n",
        "    self.num_of_rooms = num_of_rooms\n",
        "\n",
        "house = House(\"delhi\", 200000)\n",
        "mansion = Mansion(\"delhi\", 200000, 20)\n",
        "mansion.address"
      ],
      "metadata": {
        "id": "5PamPk5nyV-X",
        "colab": {
          "base_uri": "https://localhost:8080/",
          "height": 36
        },
        "outputId": "9eed184f-bf79-4897-d71d-8af1711877d6"
      },
      "execution_count": 13,
      "outputs": [
        {
          "output_type": "execute_result",
          "data": {
            "text/plain": [
              "'delhi'"
            ],
            "application/vnd.google.colaboratory.intrinsic+json": {
              "type": "string"
            }
          },
          "metadata": {},
          "execution_count": 13
        }
      ]
    },
    {
      "cell_type": "code",
      "source": [
        "mansion.price"
      ],
      "metadata": {
        "colab": {
          "base_uri": "https://localhost:8080/"
        },
        "id": "ei4p56gJGjuE",
        "outputId": "09c4f1ca-5c99-4118-8d14-2b12ed33a29b"
      },
      "execution_count": 14,
      "outputs": [
        {
          "output_type": "execute_result",
          "data": {
            "text/plain": [
              "200000"
            ]
          },
          "metadata": {},
          "execution_count": 14
        }
      ]
    },
    {
      "cell_type": "code",
      "source": [
        "mansion.num_of_rooms"
      ],
      "metadata": {
        "id": "nvW9W41RGmnT",
        "outputId": "82ee1639-983c-427a-d677-9b29a75e151d",
        "colab": {
          "base_uri": "https://localhost:8080/"
        }
      },
      "execution_count": 15,
      "outputs": [
        {
          "output_type": "execute_result",
          "data": {
            "text/plain": [
              "20"
            ]
          },
          "metadata": {},
          "execution_count": 15
        }
      ]
    }
  ]
}